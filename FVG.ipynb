{
 "cells": [
  {
   "cell_type": "code",
   "execution_count": 78,
   "id": "c0a88dbb",
   "metadata": {},
   "outputs": [],
   "source": [
    "import yfinance as yf\n",
    "import matplotlib.pyplot as plt\n",
    "import numpy as np\n",
    "import pandas as pd"
   ]
  },
  {
   "cell_type": "markdown",
   "id": "9d1e3fb6",
   "metadata": {},
   "source": [
    "Fair Value Gaps is a concept from price action and smart money trading theory. Is a price imbalance or inefficiency that occurs when price moves too quickly, creating a gap between candles that didn't get filled with enough buying or selling activity. When a Fair Value Gap (FVG) is respected, price typically continues in the direction of the prevailing trend. However, if the FVG is violated — a situation often referred to as an Inverse Fair Value Gap (IFVG) — it may signal a reversal, with price moving in the opposite direction of the original trend."
   ]
  },
  {
   "cell_type": "code",
   "execution_count": null,
   "id": "0890ea1f",
   "metadata": {},
   "outputs": [],
   "source": [
    "TICKER = 'SPY'\n",
    "LOOKBACK = 10000\n",
    "\n",
    "def get_data():\n",
    "    df = yf.download(TICKER)\n",
    "    df.columns = df.columns.get_level_values(0)\n",
    "\n",
    "    return df.iloc[-LOOKBACK:,:]\n",
    "\n",
    "def bull_fvg(df):\n",
    "    # The low price of today > high price two candles ago\n",
    "    df['High_2prev'] = df['High'].shift(2)\n",
    "    df['Bull_FVG'] = (df['Low'] > df['High_2prev']).astype(int)\n",
    "    df['Bull_FVG_Val'] = (df['Bull_FVG'] * (df['Low'] - df['High_2prev'])) / df['Close']\n",
    "\n",
    "    FVGs = df[df['Bull_FVG_Val'] > 0] \n",
    "\n",
    "    plt.hist(FVGs['Bull_FVG_Val'], bins = 10)\n",
    "    plt.title('Bullish FVG Values')\n",
    "\n",
    "    return df\n",
    "\n",
    "def bear_fvg(df):\n",
    "    # The high price of today < low price two candles ago\n",
    "    df['Low_2prev'] = df['Low'].shift(2)\n",
    "    df['Bear_FVG'] = (df['High'] < df['Low_2prev']).astype(int)\n",
    "    df['Bear_FVG_Val'] = (df['Bear_FVG'] * (df['High'] - df['Low_2prev'])) / df['Close']\n",
    "\n",
    "    FVGs = df[df['Bear_FVG_Val'] < 0] \n",
    "\n",
    "    plt.figure()\n",
    "    plt.hist(FVGs['Bear_FVG_Val'], bins = 10)\n",
    "    plt.title('Bearish FVG Values')\n",
    "\n",
    "    return df\n"
   ]
  },
  {
   "cell_type": "markdown",
   "id": "92828e70",
   "metadata": {},
   "source": [
    "1) To assess the effectiveness of the FVG-based trading strategy, we define a holding period—the number of days we hold a position after an FVG signal appears. For each FVG detected, we calculate the asset's return over the subsequent n days (where n is the holding period).\n",
    "\n",
    "Then, we compute the average return across all bullish or bearish FVG signals. This helps us evaluate whether, on average, entering trades at these points provides a statistically meaningful edge.\n",
    "\n",
    "By doing this, we can answer questions like:\n",
    "\n",
    "\"Do bullish FVGs tend to precede upward price movement?\"\n",
    "\n",
    "\"Are bearish FVGs followed by consistent declines?\"\n",
    "\n",
    "This analysis provides a first step in validating whether FVGs can be used as part of a systematic trading strategy.\n",
    "\n",
    "2) After that we can ask ourselves: Are FVGs that occur within the middle range of volume more effective than the rest?\n",
    "\n",
    "The idea is to filter out extremely high- or low-volume days and isolate those with average trading activity, which may reflect more stable and reliable market behavior.\n",
    "\n",
    "You can see the code and the results by yourself."
   ]
  },
  {
   "cell_type": "code",
   "execution_count": null,
   "id": "ad1524e3",
   "metadata": {},
   "outputs": [],
   "source": [
    "HOLDING_PERIOD = 5\n",
    "\n",
    "def asses_bullish_fvg(df, holding_period = HOLDING_PERIOD):\n",
    "\n",
    "    # Calculates the future return over the next 'holding_period' days starting from today\n",
    "    df[f'Returns_In_{holding_period}P_Ago'] = df['Close'].shift(-holding_period) / df['Close'] \n",
    "\n",
    "    FVGs = df[df['Bull_FVG_Val'] > 0] # Only the Bull FVG\n",
    "    print(f'{len(FVGs)} trades taken') #How many trades were taken\n",
    "\n",
    "    # Average return \"holding_period\" days after a FVG\n",
    "    print(f'Bullish FVG {holding_period} Period Average Return: {round((FVGs[f'Returns_In_{holding_period}P_Ago'].mean() - 1) * 100,2)} %')\n",
    "\n",
    "    # 2) Filter FVGs within the middle 50% value range\n",
    "    lower = FVGs['Bull_FVG_Val'].quantile(0.25)\n",
    "    upper = FVGs['Bull_FVG_Val'].quantile(0.75)\n",
    "\n",
    "    fvg_medium_val = FVGs[(FVGs['Bull_FVG_Val'] >= lower) & (FVGs['Bull_FVG_Val'] <= upper)]\n",
    "    print(f'{len(fvg_medium_val)} Medium Sized Bull FVGs')\n",
    "    print(f'Medium Sized Bull FVG {holding_period} Period Average Return: {round((fvg_medium_val[f'Returns_In_{holding_period}P_Ago'].mean() - 1) * 100,2)} %')\n",
    "\n",
    "    return df\n",
    "\n",
    "def asses_bearish_fvg(df, holding_period = HOLDING_PERIOD):\n",
    "\n",
    "    # Calculates the future return over the next 'holding_period' days starting from today\n",
    "    df[f'Returns_In_{holding_period}P_Ago'] = df['Close'].shift(-holding_period) / df['Close'] \n",
    "\n",
    "    FVGs = df[df['Bear_FVG_Val'] < 0]\n",
    "    print(f'{len(FVGs)} trades taken')\n",
    "    print(f'Bearish FVG {holding_period} Period Average Return: {round((FVGs[f'Returns_In_{holding_period}P_Ago'].mean() - 1) * 100, 2)} %')\n",
    "\n",
    "    # 2) Filter FVGs within the middle 50% value range\n",
    "    lower = FVGs['Bear_FVG_Val'].quantile(0.25)\n",
    "    upper = FVGs['Bear_FVG_Val'].quantile(0.75)\n",
    "\n",
    "    fvg_medium_val = FVGs[(FVGs['Bear_FVG_Val'] >= lower) & (FVGs['Bear_FVG_Val'] <= upper)]\n",
    "    print(f'{len(fvg_medium_val)} Medium Sized Bear FVGs')\n",
    "    print(f'Medium Sized Bear FVG {holding_period} Period Average Return: {round((fvg_medium_val[f'Returns_In_{holding_period}P_Ago'].mean() - 1) * 100,2)} %')\n",
    "\n",
    "    return df\n",
    "\n"
   ]
  },
  {
   "cell_type": "code",
   "execution_count": 81,
   "id": "a59700e0",
   "metadata": {},
   "outputs": [
    {
     "name": "stderr",
     "output_type": "stream",
     "text": [
      "C:\\Users\\Ferna\\AppData\\Local\\Temp\\ipykernel_18152\\3176138203.py:6: FutureWarning: YF.download() has changed argument auto_adjust default to True\n",
      "  df = yf.download(TICKER)\n",
      "[*********************100%***********************]  1 of 1 completed"
     ]
    },
    {
     "name": "stdout",
     "output_type": "stream",
     "text": [
      "1660 trades taken\n",
      "Bullish FVG 5 Period Average Return: 0.1 %\n",
      "830 Medium Sized Bull FVGs\n",
      "Medium Sized Bull FVG 5 Period Average Return: 0.08 %\n",
      "1009 trades taken\n",
      "Bearish FVG 5 Period Average Return: 0.46 %\n",
      "505 Medium Sized Bear FVGs\n",
      "Medium Sized Bear FVG 5 Period Average Return: 0.36 %\n"
     ]
    },
    {
     "name": "stderr",
     "output_type": "stream",
     "text": [
      "\n"
     ]
    },
    {
     "data": {
      "image/png": "[encoded data removed]",
      "text/plain": [
       "<Figure size 640x480 with 1 Axes>"
      ]
     },
     "metadata": {},
     "output_type": "display_data"
    },
    {
     "data": {
      "image/png": "[encoded data removed]",
      "text/plain": [
       "<Figure size 640x480 with 1 Axes>"
      ]
     },
     "metadata": {},
     "output_type": "display_data"
    }
   ],
   "source": [
    "def main():\n",
    "    df = get_data()\n",
    "    df = bull_fvg(df)\n",
    "    df = bear_fvg(df)\n",
    "    df = asses_bullish_fvg(df)\n",
    "    df = asses_bearish_fvg(df)\n",
    "\n",
    "    return df\n",
    "\n",
    "df = main()"
   ]
  }
 ],
 "metadata": {
  "kernelspec": {
   "display_name": "myenv",
   "language": "python",
   "name": "python3"
  },
  "language_info": {
   "codemirror_mode": {
    "name": "ipython",
    "version": 3
   },
   "file_extension": ".py",
   "mimetype": "text/x-python",
   "name": "python",
   "nbconvert_exporter": "python",
   "pygments_lexer": "ipython3",
   "version": "3.13.3"
  }
 },
 "nbformat": 4,
 "nbformat_minor": 5
}
